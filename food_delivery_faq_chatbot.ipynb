{
  "cells": [
    {
      "cell_type": "code",
      "source": [
        "import spacy\n",
        "from IPython.display import display, HTML\n",
        "\n",
        "# Load spaCy model (make sure to run once)\n",
        "try:\n",
        "    nlp\n",
        "except NameError:\n",
        "    nlp = spacy.load(\"en_core_web_sm\")\n",
        "\n",
        "# FAQ data (your 20 questions)\n",
        "faq = {\n",
        "    \"What is the delivery time?\": \"Delivery usually takes 30–45 minutes.\",\n",
        "    \"What payment methods are accepted?\": \"We accept cash, credit/debit cards, and online wallets.\",\n",
        "    \"How do I track my order?\": \"Track your order from the 'My Orders' section in the app.\",\n",
        "    \"Can I cancel my order?\": \"Yes, within 5 minutes of placing it.\",\n",
        "    \"Do you offer contactless delivery?\": \"Yes, choose contactless delivery at checkout.\",\n",
        "    \"Are there delivery charges?\": \"Yes, delivery charges vary by location and order value.\",\n",
        "    \"Do you deliver in my area?\": \"Enter your location in the app to check service availability.\",\n",
        "    \"Can I schedule a delivery?\": \"Yes, scheduled delivery is available during checkout.\",\n",
        "    \"How do I apply promo codes?\": \"Add promo codes during checkout under 'Apply Coupon'.\",\n",
        "    \"Is there a minimum order value?\": \"Yes, the minimum order value is typically Rs. 200.\",\n",
        "    \"What if my food is cold or delayed?\": \"You can raise a complaint via the support chat.\",\n",
        "    \"Can I change my delivery address?\": \"Yes, before the order is dispatched.\",\n",
        "    \"Do you support group orders?\": \"Yes, group order option is available in select areas.\",\n",
        "    \"How do I contact customer support?\": \"Use the in-app chat or call from the Help section.\",\n",
        "    \"What restaurants are available?\": \"It depends on your location and time of day.\",\n",
        "    \"Can I reorder my last order?\": \"Yes, go to 'Order History' and tap 'Reorder'.\",\n",
        "    \"Are vegetarian options available?\": \"Yes, vegetarian and vegan filters are available.\",\n",
        "    \"Do you deliver late at night?\": \"Yes, till midnight or later in select cities.\",\n",
        "    \"Is food packaging eco-friendly?\": \"We’re partnering with eco-friendly packaging brands.\",\n",
        "    \"What safety measures are in place?\": \"All staff follow hygiene protocols & contactless delivery.\"\n",
        "}\n",
        "\n",
        "# Preprocess FAQs\n",
        "faq_docs = {nlp(q): ans for q, ans in faq.items()}\n",
        "\n",
        "# Colored print function for Colab\n",
        "def print_colored(message, color=\"black\", bold=False):\n",
        "    style = f\"color: {color};\"\n",
        "    if bold:\n",
        "        style += \" font-weight: bold;\"\n",
        "    display(HTML(f\"<span style='{style}'>{message}</span>\"))\n",
        "\n",
        "# Response function\n",
        "def get_response(user_input):\n",
        "    user_doc = nlp(user_input)\n",
        "    best_match = None\n",
        "    best_score = 0.0\n",
        "    for question_doc, answer in faq_docs.items():\n",
        "        score = user_doc.similarity(question_doc)\n",
        "        if score > best_score:\n",
        "            best_score = score\n",
        "            best_match = answer\n",
        "    if best_score > 0.75:\n",
        "        return best_match\n",
        "    else:\n",
        "        return \"Sorry, I didn't understand that. Try asking differently.\"\n",
        "\n",
        "# Welcome message in orange and bold\n",
        "print_colored(\"🍕 Welcome to FoodieBot - Your Food Delivery Assistant!\", color=\"orange\", bold=True)\n",
        "print_colored(\"Type 'exit' to end the chat anytime.\\n\", color=\"green\")\n",
        "\n",
        "# Chat loop\n",
        "while True:\n",
        "    print_colored(\"You: \", color=\"yellow\", bold=True)\n",
        "    user_input = input()\n",
        "    if user_input.lower() == \"exit\":\n",
        "        print_colored(\"Bot: Goodbye! Enjoy your meal! 🍽️\", color=\"yellow\", bold=True)\n",
        "        break\n",
        "    response = get_response(user_input)\n",
        "    # Print bot label in yellow and response text in white\n",
        "    print_colored(\"Bot: \", color=\"yellow\", bold=True)\n",
        "    print_colored(response, color=\"white\")\n",
        "\n"
      ],
      "metadata": {
        "colab": {
          "base_uri": "https://localhost:8080/",
          "height": 228
        },
        "id": "OvRjHXVb50JZ",
        "outputId": "9eef9544-d6c7-4041-c371-130bb7743f4f"
      },
      "execution_count": 9,
      "outputs": [
        {
          "output_type": "display_data",
          "data": {
            "text/plain": [
              "<IPython.core.display.HTML object>"
            ],
            "text/html": [
              "<span style='color: orange; font-weight: bold;'>🍕 Welcome to FoodieBot - Your Food Delivery Assistant!</span>"
            ]
          },
          "metadata": {}
        },
        {
          "output_type": "display_data",
          "data": {
            "text/plain": [
              "<IPython.core.display.HTML object>"
            ],
            "text/html": [
              "<span style='color: green;'>Type 'exit' to end the chat anytime.\n",
              "</span>"
            ]
          },
          "metadata": {}
        },
        {
          "output_type": "display_data",
          "data": {
            "text/plain": [
              "<IPython.core.display.HTML object>"
            ],
            "text/html": [
              "<span style='color: yellow; font-weight: bold;'>You: </span>"
            ]
          },
          "metadata": {}
        },
        {
          "name": "stdout",
          "output_type": "stream",
          "text": [
            "can i change my delivery address?\n"
          ]
        },
        {
          "output_type": "stream",
          "name": "stderr",
          "text": [
            "<ipython-input-9-0720d64404d2>:50: UserWarning: [W007] The model you're using has no word vectors loaded, so the result of the Doc.similarity method will be based on the tagger, parser and NER, which may not give useful similarity judgements. This may happen if you're using one of the small models, e.g. `en_core_web_sm`, which don't ship with word vectors and only use context-sensitive tensors. You can always add your own word vectors, or use one of the larger models instead if available.\n",
            "  score = user_doc.similarity(question_doc)\n"
          ]
        },
        {
          "output_type": "display_data",
          "data": {
            "text/plain": [
              "<IPython.core.display.HTML object>"
            ],
            "text/html": [
              "<span style='color: yellow; font-weight: bold;'>Bot: </span>"
            ]
          },
          "metadata": {}
        },
        {
          "output_type": "display_data",
          "data": {
            "text/plain": [
              "<IPython.core.display.HTML object>"
            ],
            "text/html": [
              "<span style='color: white;'>Yes, before the order is dispatched.</span>"
            ]
          },
          "metadata": {}
        },
        {
          "output_type": "display_data",
          "data": {
            "text/plain": [
              "<IPython.core.display.HTML object>"
            ],
            "text/html": [
              "<span style='color: yellow; font-weight: bold;'>You: </span>"
            ]
          },
          "metadata": {}
        },
        {
          "name": "stdout",
          "output_type": "stream",
          "text": [
            "exit\n"
          ]
        },
        {
          "output_type": "display_data",
          "data": {
            "text/plain": [
              "<IPython.core.display.HTML object>"
            ],
            "text/html": [
              "<span style='color: yellow; font-weight: bold;'>Bot: Goodbye! Enjoy your meal! 🍽️</span>"
            ]
          },
          "metadata": {}
        }
      ]
    }
  ],
  "metadata": {
    "colab": {
      "toc_visible": true,
      "provenance": []
    },
    "kernelspec": {
      "display_name": "Python 3",
      "name": "python3"
    }
  },
  "nbformat": 4,
  "nbformat_minor": 0
}